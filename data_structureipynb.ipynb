{
  "nbformat": 4,
  "nbformat_minor": 0,
  "metadata": {
    "colab": {
      "provenance": []
    },
    "kernelspec": {
      "name": "python3",
      "display_name": "Python 3"
    },
    "language_info": {
      "name": "python"
    }
  },
  "cells": [
    {
      "cell_type": "code",
      "execution_count": null,
      "metadata": {
        "id": "GG7Zb0CyZrnr"
      },
      "outputs": [],
      "source": []
    },
    {
      "cell_type": "markdown",
      "source": [
        "1  What are data structures, and why are they important\n",
        " ans:Data structures are specialized ways of organizing and storing data in a computer so that it can be accessed and manipulated efficiently. They provide a way to manage data, ensuring that it can be inserted, deleted, accessed, and modified in an optimal way depending on the problem at hand.\n",
        "\n",
        "2 Explain the difference between mutable and immutable data types with examples\n",
        " ans:Mutable Data Types: These types of data structures allow you to modify their content after they are created.\n",
        "   Immutable Data Types: These types of data structures do not allow you to modify their content once they are created. You cannot change an element or add/remove elements.\n",
        "\n",
        "3 +P What are the main differences between lists and tuples in Python\n",
        " ansLists are mutable, meaning you can change their content (add, remove, or modify elements).\n",
        "Tuples are immutable, meaning once they are created, their content cannot be changed.\n",
        "\n",
        "4 Describe how dictionaries store data\n",
        " ans: in  Python, dictionaries store data as key-value pairs, where each key is unique, and it is associated with a corresponding value. This allows for efficient data retrieval, modification, and deletion using the keys.\n",
        "\n",
        "5 Why might you use a set instead of a list in Python\n",
        " ans You might choose to use a set instead of a list in Python for several reasons, mainly due to the unique properties of sets that make them suitable for specific use cases.\n",
        "\n",
        "6  What is a string in Python, and how is it different from a list\n",
        " ans:In Python, a string is a sequence of characters, typically used to represent text. It is a built-in data type that is enclosed within either single quotes (' ') or double quotes (\" \"). Strings in Python are immutable, meaning once created, they cannot be changed.\n",
        "\n",
        "7  How do tuples ensure data integrity in Python\n",
        "  ans:Tuples in Python help ensure data integrity by being immutable, meaning once a tuple is created, its contents cannot be altered. This immutability offers several benefits that help maintain the integrity of the data stored in a tuple.\n",
        "\n",
        "8 What is a hash table, and how does it relate to dictionaries in Python3\n",
        " ans: A hash table (also known as a hash map) is a data structure that stores key-value pairs, allowing for fast access to values based on their corresponding keys. The core idea behind a hash table is that it uses a hash function to compute an index (hash value) for each key, which is then used to store and retrieve the associated value efficiently.\n",
        "\n",
        "9 Can lists contain different data types in Python\n",
        " ans :Yes, in Python, lists can contain different data types. A single list can hold items of any type, including integers, strings, floats, booleans, other lists, or even custom objects.\n",
        "\n",
        "10  Explain why strings are immutable in Python\n",
        " ans:In Python, strings are immutable, meaning once a string is created, it cannot be changed or modified. Strings are immutable to optimize performance, ensure reliable and secure behavior, and maintain consistent hashing for efficient data structures like dictionaries and sets.\n",
        "\n",
        "11  What advantages do dictionaries offer over lists for certain tasks\n",
        " ans:Dictionaries offer several advantages over lists for certain tasks, especially when you need to store and access data in a key-value pair format\n",
        "\n",
        "12 Describe a scenario where using a tuple would be preferable over a list\n",
        " ans:Scenario: Storing Fixed Coordinates for Geographic Locations\n",
        "\n",
        "Suppose you are building an application that processes geographic data, and you need to store coordinates (latitude, longitude) for specific locations. Since these coordinates are not expected to change (i.e., the coordinates of a city or landmark should remain constant), a tuple is the ideal choice\n",
        "\n",
        "13 How do sets handle duplicate values in Python\n",
        " ans:n Python, sets automatically handle duplicate values by removing them. A set is a collection of unique elements; any duplicate value added to a set will be discarded. This behavior ensures that each element appears only once in the set, regardless of how many times it is added\n",
        "\n",
        "14 How does the “in” keyword work differently for lists and dictionaries\n",
        " ans:The in keyword in Python is used to check for membership in a collection (such as a list, dictionary, set, etc.). However, it behaves differently depending on whether you're using it with a list or a dictionary.\n",
        "\n",
        "15  Can you modify the elements of a tuple? Explain why or why not\n",
        " ans:No, you cannot modify the elements of a tuple in Python. This is because tuples are immutable.\n",
        "\n",
        "16 What is a nested dictionary, and give an example of its use case\n",
        " ans:A nested dictionary is a dictionary where some of the values themselves are dictionaries. In other words, you can have a dictionary inside another dictionary, creating a hierarchy or structure that allows you to represent more complex data relationships.\n",
        "\n",
        "Nested dictionaries are useful when you need to represent structured data where elements are related to each other in a hierarchical or multi-level way, like representing objects or entities with multiple attributes.\n",
        "\n",
        "17 Describe the time complexity of accessing elements in a dictionary  \n",
        " ans: A nested dictionary is a dictionary where some of the values themselves are dictionaries. In other words, you can have a dictionary inside another dictionary, creating a hierarchy or structure that allows you to represent more complex data relationships.\n",
        "\n",
        "Nested dictionaries are useful when you need to represent structured data where elements are related to each other in a hierarchical or multi-level way, like representing objects or entities with multiple attributes.\n",
        "\n",
        "18  In what situations are lists preferred over dictionaries\n",
        " ans:While dictionaries are powerful for fast lookups based on keys, there are certain situations where lists are preferred over dictionaries due to their simplicity, flexibility, and the way they are designed to handle specific use cases. Here are a few situations where lists might be more appropriate:\n",
        "\n",
        "19  Why are dictionaries considered unordered, and how does that affect data retrieval\n",
        " ans:In Python, dictionaries are considered unordered because they do not maintain the order of their items based on insertion or any specific sequence of keys or values. The key-value pairs in a dictionary are stored in a way that allows for fast access but not necessarily in the order in which they were added.\n",
        "\n",
        "This behavior is due to the way dictionaries are implemented internally. In Python, dictionaries are typically implemented using a hash table. A hash table uses a hash function to map keys to specific \"buckets\" in memory, allowing for efficient lookup, insertion, and deletion.\n",
        "\n",
        "20 Explain the difference between a list and a dictionary in terms of data retrieval.\n",
        " ans:Both lists and dictionaries are fundamental data structures in Python, but they differ significantly in how data is retrieved. Here’s a breakdown of the key differences between the two in terms of data retrieval:\n",
        "                  PARTICal\n",
        "\n",
        "1  Write a code to create a string with your name and print it\n",
        " ans:\n",
        "\n",
        "\n",
        "\n",
        "\n",
        "\n"
      ],
      "metadata": {
        "id": "1JWIZMq3Z0VS"
      }
    },
    {
      "cell_type": "code",
      "source": [
        "name = \"vivek\"\n",
        "print(name)\n"
      ],
      "metadata": {
        "colab": {
          "base_uri": "https://localhost:8080/"
        },
        "id": "YfY9INQOcC2y",
        "outputId": "c9b8cb67-4da5-4947-c463-edd8754e82b5"
      },
      "execution_count": 1,
      "outputs": [
        {
          "output_type": "stream",
          "name": "stdout",
          "text": [
            "vivek\n"
          ]
        }
      ]
    },
    {
      "cell_type": "markdown",
      "source": [
        "2  Write a code to find the length of the string \"Hello World\n",
        " ans:\n"
      ],
      "metadata": {
        "id": "RgNaCr1XnzgJ"
      }
    },
    {
      "cell_type": "code",
      "source": [
        "string = \"Hello World\"\n",
        "length = len(string)\n",
        "print(length)\n"
      ],
      "metadata": {
        "colab": {
          "base_uri": "https://localhost:8080/"
        },
        "id": "OuljAUiuotIa",
        "outputId": "bb3140f6-2f6c-4d59-b92a-fa6cae14df37"
      },
      "execution_count": 1,
      "outputs": [
        {
          "output_type": "stream",
          "name": "stdout",
          "text": [
            "11\n"
          ]
        }
      ]
    },
    {
      "cell_type": "markdown",
      "source": [
        "3  Write a code to slice the first 3 characters from the string \"Python Programming\n",
        " ans\n"
      ],
      "metadata": {
        "id": "shx8QxkmoxLZ"
      }
    },
    {
      "cell_type": "code",
      "source": [
        "string = \"Python Programming\"\n",
        "sliced_string = string[:3]\n",
        "print(sliced_string)\n"
      ],
      "metadata": {
        "colab": {
          "base_uri": "https://localhost:8080/"
        },
        "id": "Xu-oVMkho50y",
        "outputId": "26e0434f-6a49-4381-bfed-a1938d823dec"
      },
      "execution_count": 2,
      "outputs": [
        {
          "output_type": "stream",
          "name": "stdout",
          "text": [
            "Pyt\n"
          ]
        }
      ]
    },
    {
      "cell_type": "markdown",
      "source": [
        "4 Write a code to convert the string \"hello\" to uppercase\n"
      ],
      "metadata": {
        "id": "vRYuPWA7pEax"
      }
    },
    {
      "cell_type": "code",
      "source": [
        "string = \"hello\"\n",
        "uppercased_string = string.upper()\n",
        "print(uppercased_string)"
      ],
      "metadata": {
        "colab": {
          "base_uri": "https://localhost:8080/"
        },
        "id": "o4zns4nkpMa5",
        "outputId": "eff7e488-d040-4638-8654-339084858054"
      },
      "execution_count": 3,
      "outputs": [
        {
          "output_type": "stream",
          "name": "stdout",
          "text": [
            "HELLO\n"
          ]
        }
      ]
    },
    {
      "cell_type": "markdown",
      "source": [
        "5 Write a code to replace the word \"apple\" with \"orange\" in the string \"I like apple\"\n"
      ],
      "metadata": {
        "id": "0ws8fEMGpV-7"
      }
    },
    {
      "cell_type": "code",
      "source": [
        "sentence = \"I like apple\"\n",
        "modified_sentence = sentence.replace(\"apple\", \"orange\")\n",
        "print(modified_sentence)"
      ],
      "metadata": {
        "colab": {
          "base_uri": "https://localhost:8080/"
        },
        "id": "kq6tF06FpbCW",
        "outputId": "70e73ee9-ea32-4972-de16-5ef4e410a694"
      },
      "execution_count": 4,
      "outputs": [
        {
          "output_type": "stream",
          "name": "stdout",
          "text": [
            "I like orange\n"
          ]
        }
      ]
    },
    {
      "cell_type": "markdown",
      "source": [
        "6  Write a code to create a list with numbers 1 to 5 and print it\n"
      ],
      "metadata": {
        "id": "lwr9fAc1phBf"
      }
    },
    {
      "cell_type": "code",
      "source": [
        "number_list = [1, 2, 3, 4, 5]\n",
        "print(number_list)"
      ],
      "metadata": {
        "colab": {
          "base_uri": "https://localhost:8080/"
        },
        "id": "mEBAmgYIpngN",
        "outputId": "9dbf5a47-b596-4451-fc04-8da9d730efbf"
      },
      "execution_count": 5,
      "outputs": [
        {
          "output_type": "stream",
          "name": "stdout",
          "text": [
            "[1, 2, 3, 4, 5]\n"
          ]
        }
      ]
    },
    {
      "cell_type": "markdown",
      "source": [
        "7  Write a code to append the number 10 to the list [1, 2, 3, 4]\n"
      ],
      "metadata": {
        "id": "fCcz-RB0psCO"
      }
    },
    {
      "cell_type": "code",
      "source": [
        "number_list = [1, 2, 3, 4]\n",
        "number_list.append(10)\n",
        "print(number_list)"
      ],
      "metadata": {
        "colab": {
          "base_uri": "https://localhost:8080/"
        },
        "id": "imnp1YDEp3Nm",
        "outputId": "7f962732-f2ef-4aec-f32b-a7df413ba468"
      },
      "execution_count": 6,
      "outputs": [
        {
          "output_type": "stream",
          "name": "stdout",
          "text": [
            "[1, 2, 3, 4, 10]\n"
          ]
        }
      ]
    },
    {
      "cell_type": "markdown",
      "source": [
        "8  Write a code to remove the number 3 from the list [1, 2, 3, 4, 5]"
      ],
      "metadata": {
        "id": "ty6YQit2p9Ub"
      }
    },
    {
      "cell_type": "code",
      "source": [
        "number_list = [1, 2, 3, 4, 5]\n",
        "number_list.remove(3)\n",
        "print(number_list)"
      ],
      "metadata": {
        "colab": {
          "base_uri": "https://localhost:8080/"
        },
        "id": "Ns-_PlgqqG9V",
        "outputId": "869303e0-e3ae-4822-fff4-d8f9dbb41209"
      },
      "execution_count": 7,
      "outputs": [
        {
          "output_type": "stream",
          "name": "stdout",
          "text": [
            "[1, 2, 4, 5]\n"
          ]
        }
      ]
    },
    {
      "cell_type": "markdown",
      "source": [
        "9 Write a code to access the second element in the list ['a', 'b', 'c', 'd']"
      ],
      "metadata": {
        "id": "BSuGC3ogqFzU"
      }
    },
    {
      "cell_type": "code",
      "source": [
        "letter_list = ['a', 'b', 'c', 'd']\n",
        "second_element = letter_list[1]\n",
        "print(second_element)"
      ],
      "metadata": {
        "colab": {
          "base_uri": "https://localhost:8080/"
        },
        "id": "jokjioQ3qT2q",
        "outputId": "26fb2fc5-5f4e-44bc-b87c-28ec7a7feb35"
      },
      "execution_count": 8,
      "outputs": [
        {
          "output_type": "stream",
          "name": "stdout",
          "text": [
            "b\n"
          ]
        }
      ]
    },
    {
      "cell_type": "markdown",
      "source": [
        "10 Write a code to reverse the list [10, 20, 30, 40, 50]"
      ],
      "metadata": {
        "id": "toOSFnClqYcr"
      }
    },
    {
      "cell_type": "code",
      "source": [
        "number_list = [10, 20, 30, 40, 50]\n",
        "number_list.reverse()\n",
        "print(number_list)"
      ],
      "metadata": {
        "colab": {
          "base_uri": "https://localhost:8080/"
        },
        "id": "ESZvG_jxqdK-",
        "outputId": "a8585a42-0a50-4842-e6c0-8ca2c1379341"
      },
      "execution_count": 9,
      "outputs": [
        {
          "output_type": "stream",
          "name": "stdout",
          "text": [
            "[50, 40, 30, 20, 10]\n"
          ]
        }
      ]
    },
    {
      "cell_type": "markdown",
      "source": [
        " 11. Write a code to create a tuple with the elements 100, 200, 300 and print it."
      ],
      "metadata": {
        "id": "ZD99AGbArAVi"
      }
    },
    {
      "cell_type": "code",
      "source": [
        "my_tuple = (100, 200, 300)\n",
        "print(my_tuple)"
      ],
      "metadata": {
        "colab": {
          "base_uri": "https://localhost:8080/"
        },
        "id": "auotAiOWrD2-",
        "outputId": "094bee38-8f94-45f5-a4f5-21b3d1190a55"
      },
      "execution_count": 10,
      "outputs": [
        {
          "output_type": "stream",
          "name": "stdout",
          "text": [
            "(100, 200, 300)\n"
          ]
        }
      ]
    },
    {
      "cell_type": "markdown",
      "source": [
        "12  Write a code to access the second-to-last element of the tuple ('red', 'green', 'blue', 'yellow')."
      ],
      "metadata": {
        "id": "kGkHIOtHrNVz"
      }
    },
    {
      "cell_type": "code",
      "source": [
        "my_tuple = ('red', 'green', 'blue', 'yellow')\n",
        "second_to_last = my_tuple[-2]\n",
        "print(second_to_last)"
      ],
      "metadata": {
        "colab": {
          "base_uri": "https://localhost:8080/"
        },
        "id": "FyX0u4RTrZS5",
        "outputId": "730202f5-4f5f-4dda-b52c-ea5cf9ad342a"
      },
      "execution_count": 11,
      "outputs": [
        {
          "output_type": "stream",
          "name": "stdout",
          "text": [
            "blue\n"
          ]
        }
      ]
    },
    {
      "cell_type": "markdown",
      "source": [
        "13  Write a code to find the minimum number in the tuple (10, 20, 5, 15)."
      ],
      "metadata": {
        "id": "eh0SjIBCrjCt"
      }
    },
    {
      "cell_type": "code",
      "source": [
        "my_tuple = (10, 20, 5, 15)\n",
        "min_value = min(my_tuple)\n",
        "print(min_value)\n"
      ],
      "metadata": {
        "colab": {
          "base_uri": "https://localhost:8080/"
        },
        "id": "WXFjX3aXruoO",
        "outputId": "fa40975c-677a-4e57-d341-34f018b87d97"
      },
      "execution_count": 12,
      "outputs": [
        {
          "output_type": "stream",
          "name": "stdout",
          "text": [
            "5\n"
          ]
        }
      ]
    },
    {
      "cell_type": "markdown",
      "source": [
        "14  Write a code to find the index of the element \"cat\" in the tuple ('dog', 'cat', 'rabbit')."
      ],
      "metadata": {
        "id": "MLKeielWr3sC"
      }
    },
    {
      "cell_type": "code",
      "source": [
        "my_tuple = ('dog', 'cat', 'rabbit')\n",
        "index_of_cat = my_tuple.index('cat')\n",
        "print(index_of_cat)"
      ],
      "metadata": {
        "colab": {
          "base_uri": "https://localhost:8080/"
        },
        "id": "tKeQIsvVr_vO",
        "outputId": "5783e75d-8951-4d27-aad9-73e390e9fb87"
      },
      "execution_count": 13,
      "outputs": [
        {
          "output_type": "stream",
          "name": "stdout",
          "text": [
            "1\n"
          ]
        }
      ]
    },
    {
      "cell_type": "markdown",
      "source": [
        " 15. Write a code to create a tuple containing three different fruits and check if \"kiwi\" is in it."
      ],
      "metadata": {
        "id": "N-Px0NGGsFtP"
      }
    },
    {
      "cell_type": "code",
      "source": [
        "fruits = ('apple', 'banana', 'orange')\n",
        "is_kiwi_in_tuple = 'kiwi' in fruits\n",
        "print(is_kiwi_in_tuple)"
      ],
      "metadata": {
        "colab": {
          "base_uri": "https://localhost:8080/"
        },
        "id": "MYFUu5tksNMO",
        "outputId": "9802c3cc-d50e-42b2-cc77-4f4c31f4b6a1"
      },
      "execution_count": 14,
      "outputs": [
        {
          "output_type": "stream",
          "name": "stdout",
          "text": [
            "False\n"
          ]
        }
      ]
    },
    {
      "cell_type": "markdown",
      "source": [
        "16 Write a code to create a set with the elements 'a', 'b', 'c' and print it.\n",
        "\n"
      ],
      "metadata": {
        "id": "4hTaw8NTsbWz"
      }
    },
    {
      "cell_type": "code",
      "source": [
        "my_set = {'a', 'b', 'c'}\n",
        "print(my_set)"
      ],
      "metadata": {
        "colab": {
          "base_uri": "https://localhost:8080/"
        },
        "id": "uahdO9Q7sg6i",
        "outputId": "2597f0c0-867e-4e45-ebf7-e0d61754e268"
      },
      "execution_count": 15,
      "outputs": [
        {
          "output_type": "stream",
          "name": "stdout",
          "text": [
            "{'a', 'b', 'c'}\n"
          ]
        }
      ]
    },
    {
      "cell_type": "markdown",
      "source": [
        "17 Write a code to clear all elements from the set {1, 2, 3, 4, 5}"
      ],
      "metadata": {
        "id": "asHvWlwAsk4V"
      }
    },
    {
      "cell_type": "code",
      "source": [
        "my_set = {1, 2, 3, 4, 5}\n",
        "my_set.clear()\n",
        "print(my_set)"
      ],
      "metadata": {
        "colab": {
          "base_uri": "https://localhost:8080/"
        },
        "id": "cJIW4Uh9ssdP",
        "outputId": "f9e05730-c39e-404a-925c-02e73da1d240"
      },
      "execution_count": 16,
      "outputs": [
        {
          "output_type": "stream",
          "name": "stdout",
          "text": [
            "set()\n"
          ]
        }
      ]
    },
    {
      "cell_type": "markdown",
      "source": [
        "18  Write a code to remove the element 4 from the set {1, 2, 3, 4}"
      ],
      "metadata": {
        "id": "xzwXicNIsvBe"
      }
    },
    {
      "cell_type": "code",
      "source": [
        "my_set = {1, 2, 3, 4}\n",
        "my_set.remove(4)\n",
        "print(my_set)"
      ],
      "metadata": {
        "colab": {
          "base_uri": "https://localhost:8080/"
        },
        "id": "wHBifRONs_xn",
        "outputId": "7fce6a43-2324-42bc-a9ce-27482b9b4f69"
      },
      "execution_count": 17,
      "outputs": [
        {
          "output_type": "stream",
          "name": "stdout",
          "text": [
            "{1, 2, 3}\n"
          ]
        }
      ]
    },
    {
      "cell_type": "markdown",
      "source": [
        "19 Write a code to find the union of two sets {1, 2, 3} and {3, 4, 5}."
      ],
      "metadata": {
        "id": "48SIZPrqtCOZ"
      }
    },
    {
      "cell_type": "code",
      "source": [
        "set1 = {1, 2, 3}\n",
        "set2 = {3, 4, 5}\n",
        "union_set = set1.union(set2)\n",
        "print(union_set)\n"
      ],
      "metadata": {
        "colab": {
          "base_uri": "https://localhost:8080/"
        },
        "id": "p5ZkUWGZtJki",
        "outputId": "354b3d15-89ac-4183-9c3b-fa6e36460c39"
      },
      "execution_count": 18,
      "outputs": [
        {
          "output_type": "stream",
          "name": "stdout",
          "text": [
            "{1, 2, 3, 4, 5}\n"
          ]
        }
      ]
    },
    {
      "cell_type": "markdown",
      "source": [
        " 20  Write a code to find the intersection of two sets {1, 2, 3} and {2, 3, 4}."
      ],
      "metadata": {
        "id": "lfMzgKx-tTES"
      }
    },
    {
      "cell_type": "code",
      "source": [
        "set1 = {1, 2, 3}\n",
        "set2 = {2, 3, 4}\n",
        "intersection_set = set1.intersection(set2)\n",
        "print(intersection_set)\n"
      ],
      "metadata": {
        "colab": {
          "base_uri": "https://localhost:8080/"
        },
        "id": "mRNL8kbythpn",
        "outputId": "4dc9628d-47ba-4bb4-f78b-52a124a04bcf"
      },
      "execution_count": 19,
      "outputs": [
        {
          "output_type": "stream",
          "name": "stdout",
          "text": [
            "{2, 3}\n"
          ]
        }
      ]
    },
    {
      "cell_type": "markdown",
      "source": [
        "21 Write a code to create a dictionary with the keys \"name\", \"age\", and \"city\", and print it."
      ],
      "metadata": {
        "id": "b_T1NBzqtnh8"
      }
    },
    {
      "cell_type": "code",
      "source": [
        "my_dict = {\"name\": \"vivek kumar chaubey\", \"age\": 25, \"city\": \"New York\"}\n",
        "print(my_dict)"
      ],
      "metadata": {
        "colab": {
          "base_uri": "https://localhost:8080/"
        },
        "id": "dgDGHC-0tsBE",
        "outputId": "b494d0bc-7f25-4af6-ca8b-4aa350d044a4"
      },
      "execution_count": 21,
      "outputs": [
        {
          "output_type": "stream",
          "name": "stdout",
          "text": [
            "{'name': 'vivek kumar chaubey', 'age': 25, 'city': 'New York'}\n"
          ]
        }
      ]
    },
    {
      "cell_type": "markdown",
      "source": [
        "22 Write a code to add a new key-value pair \"country\": \"USA\" to the dictionary {'name': 'John', 'age': 25}."
      ],
      "metadata": {
        "id": "zCI5disvt2xO"
      }
    },
    {
      "cell_type": "code",
      "source": [
        "my_dict = {'name': 'John', 'age': 25}\n",
        "my_dict['country'] = 'USA'\n",
        "print(my_dict)\n"
      ],
      "metadata": {
        "colab": {
          "base_uri": "https://localhost:8080/"
        },
        "id": "GIBTXjHVt9xZ",
        "outputId": "de9aaf02-3231-4a93-a429-945e20029800"
      },
      "execution_count": 22,
      "outputs": [
        {
          "output_type": "stream",
          "name": "stdout",
          "text": [
            "{'name': 'John', 'age': 25, 'country': 'USA'}\n"
          ]
        }
      ]
    },
    {
      "cell_type": "markdown",
      "source": [
        "23 Write a code to access the value associated with the key \"name\" in the dictionary {'name': 'Alice', 'age': 30}."
      ],
      "metadata": {
        "id": "SWvMj4WMuHRv"
      }
    },
    {
      "cell_type": "code",
      "source": [
        "my_dict = {'name': 'Alice', 'age': 30}\n",
        "name_value = my_dict['name']\n",
        "print(name_value)"
      ],
      "metadata": {
        "colab": {
          "base_uri": "https://localhost:8080/"
        },
        "id": "C8dnQ_rEuNo1",
        "outputId": "065905f8-233b-4583-8533-573e4310d5fe"
      },
      "execution_count": 23,
      "outputs": [
        {
          "output_type": "stream",
          "name": "stdout",
          "text": [
            "Alice\n"
          ]
        }
      ]
    },
    {
      "cell_type": "markdown",
      "source": [
        "24. Write a code to remove the key \"age\" from the dictionary {'name': 'Bob', 'age': 22, 'city': 'New York'}."
      ],
      "metadata": {
        "id": "w4BQrI4wuXOd"
      }
    },
    {
      "cell_type": "code",
      "source": [
        "my_dict = {'name': 'Bob', 'age': 22, 'city': 'New York'}\n",
        "del my_dict['age']\n",
        "print(my_dict)\n"
      ],
      "metadata": {
        "colab": {
          "base_uri": "https://localhost:8080/"
        },
        "id": "U_vhyrxuuYyS",
        "outputId": "c0908cb9-3ddc-4b6f-fbdd-35fc094cc6e0"
      },
      "execution_count": 24,
      "outputs": [
        {
          "output_type": "stream",
          "name": "stdout",
          "text": [
            "{'name': 'Bob', 'city': 'New York'}\n"
          ]
        }
      ]
    },
    {
      "cell_type": "markdown",
      "source": [
        "25. Write a code to check if the key \"city\" exists in the dictionary {'name': 'Alice', 'city': 'Paris'}."
      ],
      "metadata": {
        "id": "ittokhwhuzDw"
      }
    },
    {
      "cell_type": "code",
      "source": [
        "my_dict = {'name': 'Alice', 'city': 'Paris'}\n",
        "if 'city' in my_dict:\n",
        "    print(\"The key 'city' exists.\")\n",
        "else:\n",
        "    print(\"The key 'city' does not exist.\")\n"
      ],
      "metadata": {
        "colab": {
          "base_uri": "https://localhost:8080/"
        },
        "id": "y8DIoF_Pu0X7",
        "outputId": "0f954b7b-fa38-40e8-9105-c53845cdd6f6"
      },
      "execution_count": 26,
      "outputs": [
        {
          "output_type": "stream",
          "name": "stdout",
          "text": [
            "The key 'city' exists.\n"
          ]
        }
      ]
    },
    {
      "cell_type": "markdown",
      "source": [
        "26  Write a code to create a list, a tuple, and a dictionary, and print them all."
      ],
      "metadata": {
        "id": "S_hly4m7vFKV"
      }
    },
    {
      "cell_type": "code",
      "source": [
        "my_list = [1, 2, 3, 4]\n",
        "my_tuple = (5, 6, 7, 8)\n",
        "my_dict = {'name': 'John', 'age': 30}\n",
        "\n",
        "print(\"List:\", my_list)\n",
        "print(\"Tuple:\", my_tuple)\n",
        "print(\"Dictionary:\", my_dict)\n"
      ],
      "metadata": {
        "colab": {
          "base_uri": "https://localhost:8080/"
        },
        "id": "fUsWJD6mvLVW",
        "outputId": "a4f1aa2d-3a7d-42a3-9574-ad490e1c30c4"
      },
      "execution_count": 27,
      "outputs": [
        {
          "output_type": "stream",
          "name": "stdout",
          "text": [
            "List: [1, 2, 3, 4]\n",
            "Tuple: (5, 6, 7, 8)\n",
            "Dictionary: {'name': 'John', 'age': 30}\n"
          ]
        }
      ]
    },
    {
      "cell_type": "markdown",
      "source": [
        "27  Write a code to create a list of 5 random numbers between 1 and 100, sort it in ascending order, and print the\n",
        "result.(replaced)\n"
      ],
      "metadata": {
        "id": "aXduSqP8vQDs"
      }
    },
    {
      "cell_type": "code",
      "source": [
        "import random\n",
        "\n",
        "random_numbers = [random.randint(1, 100) for _ in range(5)]\n",
        "random_numbers.sort()\n",
        "print(random_numbers)\n"
      ],
      "metadata": {
        "colab": {
          "base_uri": "https://localhost:8080/"
        },
        "id": "cSrofzQXvWn8",
        "outputId": "c0a21a67-b4c5-4eea-8639-3450a6c00f0e"
      },
      "execution_count": 28,
      "outputs": [
        {
          "output_type": "stream",
          "name": "stdout",
          "text": [
            "[22, 33, 33, 63, 78]\n"
          ]
        }
      ]
    },
    {
      "cell_type": "markdown",
      "source": [
        "28. Write a code to create a list with strings and print the element at the third index."
      ],
      "metadata": {
        "id": "A6YdMpXPvfeG"
      }
    },
    {
      "cell_type": "code",
      "source": [
        "my_strings = [\"apple\", \"banana\", \"cherry\", \"date\", \"elderberry\"]\n",
        "print(my_strings[3])  # Element at index 3 (4th element)\n"
      ],
      "metadata": {
        "colab": {
          "base_uri": "https://localhost:8080/"
        },
        "id": "X7SakxfvvpPg",
        "outputId": "194b5159-3b32-479e-e24d-c2d9c936db0c"
      },
      "execution_count": 29,
      "outputs": [
        {
          "output_type": "stream",
          "name": "stdout",
          "text": [
            "date\n"
          ]
        }
      ]
    },
    {
      "cell_type": "markdown",
      "source": [
        "29  Write a code to combine two dictionaries into one and print the result.\n",
        "\n"
      ],
      "metadata": {
        "id": "Dz-QrsLTvvUX"
      }
    },
    {
      "cell_type": "code",
      "source": [
        "dict1 = {'name': 'vivelk ', 'age': 22}\n",
        "dict2 = {'city': 'Paris', 'country': 'France'}\n",
        "\n",
        "combined_dict = {**dict1, **dict2}\n",
        "print(combined_dict)"
      ],
      "metadata": {
        "colab": {
          "base_uri": "https://localhost:8080/"
        },
        "id": "OaDT36DNv0YK",
        "outputId": "1d65885d-9eef-4c51-806b-52d3a197fbd5"
      },
      "execution_count": 30,
      "outputs": [
        {
          "output_type": "stream",
          "name": "stdout",
          "text": [
            "{'name': 'vivelk ', 'age': 22, 'city': 'Paris', 'country': 'France'}\n"
          ]
        }
      ]
    },
    {
      "cell_type": "markdown",
      "source": [
        "30 Write a code to convert a list of strings into a set."
      ],
      "metadata": {
        "id": "biG9yfZmv_eB"
      }
    },
    {
      "cell_type": "code",
      "source": [
        "my_list = [\"apple\", \"banana\", \"cherry\", \"apple\", \"banana\"]\n",
        "my_set = set(my_list)\n",
        "print(my_set)\n"
      ],
      "metadata": {
        "colab": {
          "base_uri": "https://localhost:8080/"
        },
        "id": "G0WCrVIjwQPO",
        "outputId": "3798c1ec-85e9-48fe-f0ec-85ffe6b4dc27"
      },
      "execution_count": 31,
      "outputs": [
        {
          "output_type": "stream",
          "name": "stdout",
          "text": [
            "{'cherry', 'apple', 'banana'}\n"
          ]
        }
      ]
    }
  ]
}